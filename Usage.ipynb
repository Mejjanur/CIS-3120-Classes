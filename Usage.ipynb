{
 "cells": [
  {
   "cell_type": "code",
   "execution_count": 1,
   "id": "6b88b4bc-a5c4-436d-9eed-8e95600f6d53",
   "metadata": {
    "editable": true,
    "slideshow": {
     "slide_type": ""
    },
    "tags": []
   },
   "outputs": [],
   "source": [
    "from Animal import Animal"
   ]
  },
  {
   "cell_type": "code",
   "execution_count": 6,
   "id": "738a52e3-faf1-4f92-8835-fed5b5e36dfe",
   "metadata": {
    "editable": true,
    "slideshow": {
     "slide_type": ""
    },
    "tags": []
   },
   "outputs": [
    {
     "name": "stdout",
     "output_type": "stream",
     "text": [
      "hello, I am Joe\n"
     ]
    }
   ],
   "source": [
    "x = Animal(\"Joe\")\n",
    "# x.talk()"
   ]
  },
  {
   "cell_type": "code",
   "execution_count": 7,
   "id": "de2aac13",
   "metadata": {},
   "outputs": [
    {
     "name": "stdout",
     "output_type": "stream",
     "text": [
      "Henry is munching on some lettuce.\n",
      "Henry's species is a Turtle, and it has green skin.\n",
      "Henry is playing hide and seek.\n",
      "Henry is swimming in the water.\n",
      "Henry is stretching its legs and neck.\n"
     ]
    }
   ],
   "source": [
    "class Animal:\n",
    "    def __init__(self, name, species, age, skin_color):\n",
    "        self.name = name\n",
    "        self.species = species\n",
    "        self.age = age\n",
    "        self.skin_color = skin_color\n",
    "\n",
    "    def eat(self, food):\n",
    "        print(f\"{self.name} is munching on some {food}.\")\n",
    "\n",
    "    def describe(self):\n",
    "        print(f\"{self.name}'s species is a {self.species}, and it has {self.skin_color} skin.\")\n",
    "\n",
    "    def play(self, game):\n",
    "        print(f\"{self.name} is playing {game}.\")\n",
    "\n",
    "    def swim(self):\n",
    "        print(f\"{self.name} is swimming in the water.\")\n",
    "\n",
    "    def stretch(self):\n",
    "        print(f\"{self.name} is stretching its legs and neck.\")\n",
    "\n",
    "#Usage\n",
    "\n",
    "henry = Animal(\"Henry\", \"Turtle\", 15, \"green\")\n",
    "\n",
    "henry.eat(\"lettuce\")\n",
    "henry.describe()\n",
    "henry.play(\"hide and seek\")\n",
    "henry.swim()\n",
    "henry.stretch()"
   ]
  }
 ],
 "metadata": {
  "kernelspec": {
   "display_name": "Python 3",
   "language": "python",
   "name": "python3"
  },
  "language_info": {
   "codemirror_mode": {
    "name": "ipython",
    "version": 3
   },
   "file_extension": ".py",
   "mimetype": "text/x-python",
   "name": "python",
   "nbconvert_exporter": "python",
   "pygments_lexer": "ipython3",
   "version": "3.12.5"
  }
 },
 "nbformat": 4,
 "nbformat_minor": 5
}
